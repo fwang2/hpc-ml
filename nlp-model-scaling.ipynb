{
 "cells": [
  {
   "cell_type": "markdown",
   "id": "24b26a47-d4a8-4acc-a38a-2f396dde963b",
   "metadata": {},
   "source": [
    "## One-Hot encoding"
   ]
  },
  {
   "cell_type": "code",
   "execution_count": 1,
   "id": "e04f3ffb-734e-4349-a7e1-039c37137642",
   "metadata": {},
   "outputs": [],
   "source": [
    "# Import torch and torchtext\n",
    "import torch\n",
    "import torchtext"
   ]
  },
  {
   "cell_type": "code",
   "execution_count": 3,
   "id": "c35fe19c-018b-4498-9951-c5cbe1512602",
   "metadata": {},
   "outputs": [
    {
     "name": "stdout",
     "output_type": "stream",
     "text": [
      "['my', 'god', ',', 'this', 'is', 'crazy']\n"
     ]
    }
   ],
   "source": [
    "# Define a tokenizer function using torchtext\n",
    "tokenizer = torchtext.data.utils.get_tokenizer(\"basic_english\")\n",
    "\n",
    "# Define a text to convert\n",
    "text = \"My god, this is CRAZY\"\n",
    "\n",
    "# Tokenize the text and print the tokens\n",
    "tokens = tokenizer(text)\n",
    "print(tokens)\n",
    "# Output: ['my', 'god', ',', 'this', 'is', 'crazy']"
   ]
  },
  {
   "cell_type": "code",
   "execution_count": 7,
   "id": "794ccd4d-7eae-4963-bb00-87c459083224",
   "metadata": {},
   "outputs": [
    {
     "name": "stdout",
     "output_type": "stream",
     "text": [
      "6\n"
     ]
    }
   ],
   "source": [
    "# Define a vocabulary using the tokens\n",
    "vocab = torchtext.vocab.build_vocab_from_iterator([tokens])\n",
    "print(len(vocab))\n"
   ]
  },
  {
   "cell_type": "code",
   "execution_count": 8,
   "id": "883d84aa-b661-42a8-8274-0378faee341c",
   "metadata": {},
   "outputs": [
    {
     "name": "stdout",
     "output_type": "stream",
     "text": [
      "[4, 2, 0, 5, 3, 1]\n"
     ]
    }
   ],
   "source": [
    "# Convert the tokens into indices using the vocabulary\n",
    "indices = [vocab[token] for token in tokens]\n",
    "print(indices)"
   ]
  },
  {
   "cell_type": "code",
   "execution_count": 9,
   "id": "622ba4fb-fe60-435b-b5fb-6365c0cd365b",
   "metadata": {},
   "outputs": [
    {
     "name": "stdout",
     "output_type": "stream",
     "text": [
      "tensor([[0, 0, 0, 0, 1, 0],\n",
      "        [0, 0, 1, 0, 0, 0],\n",
      "        [1, 0, 0, 0, 0, 0],\n",
      "        [0, 0, 0, 0, 0, 1],\n",
      "        [0, 0, 0, 1, 0, 0],\n",
      "        [0, 1, 0, 0, 0, 0]])\n"
     ]
    }
   ],
   "source": [
    "# Convert the indices into a tensor\n",
    "indices_tensor = torch.tensor(indices)\n",
    "\n",
    "# Apply one-hot encoding to the tensor using torch.nn.functional.one_hot\n",
    "one_hot_tensor = torch.nn.functional.one_hot(indices_tensor, len(vocab))\n",
    "print(one_hot_tensor)\n"
   ]
  },
  {
   "cell_type": "code",
   "execution_count": 14,
   "id": "dcfc409b-be2a-45fc-88af-fbc74dc1db75",
   "metadata": {},
   "outputs": [],
   "source": [
    "import numpy as np\n",
    "import matplotlib\n",
    "import matplotlib as mpl\n",
    "import matplotlib.pyplot as plt"
   ]
  },
  {
   "cell_type": "code",
   "execution_count": 15,
   "id": "9c23c072-dbd4-4161-967e-fe076c81c76a",
   "metadata": {},
   "outputs": [
    {
     "data": {
      "image/png": "[encoded data removed]",
      "text/plain": [
       "<Figure size 640x480 with 1 Axes>"
      ]
     },
     "metadata": {},
     "output_type": "display_data"
    }
   ],
   "source": [
    "\n",
    "fig, ax = plt.subplots()\n",
    "\n",
    "im = ax.imshow(one_hot_tensor.numpy())\n",
    "fig.tight_layout()\n",
    "plt.show()\n"
   ]
  },
  {
   "cell_type": "markdown",
   "id": "c5e6a636-a613-4813-a48e-0d34e82a1802",
   "metadata": {},
   "source": [
    "## Embeddings"
   ]
  },
  {
   "cell_type": "code",
   "execution_count": 10,
   "id": "329dcd18-2dab-4d34-a1a6-6398773416ab",
   "metadata": {},
   "outputs": [],
   "source": [
    "# Import torch and torchtext\n",
    "import torch\n",
    "import torchtext\n",
    "\n",
    "# Define an embedding dimension\n",
    "embedding_dim = 50\n",
    "\n",
    "# Define a vocabulary size\n",
    "vocab_size = 10000\n",
    "\n",
    "# Create an embedding layer with random initialization\n",
    "embedding_layer = torch.nn.Embedding(vocab_size, embedding_dim)\n"
   ]
  },
  {
   "cell_type": "code",
   "execution_count": 11,
   "id": "972055a1-04ed-44da-9d28-597e860b7170",
   "metadata": {},
   "outputs": [
    {
     "name": "stdout",
     "output_type": "stream",
     "text": [
      "['my', 'god', ',', 'this', 'is', 'crazy']\n",
      "[4, 2, 0, 5, 3, 1]\n"
     ]
    }
   ],
   "source": [
    "# Define a text to convert\n",
    "text = \"My god, this is CRAZY\"\n",
    "\n",
    "# Tokenize the text and print the tokens\n",
    "tokens = tokenizer(text)\n",
    "print(tokens)\n",
    "# Output: ['my', 'god', ',', 'this', 'is', 'crazy']\n",
    "\n",
    "# Define a vocabulary using the tokens\n",
    "vocab = torchtext.vocab.build_vocab_from_iterator([tokens])\n",
    "\n",
    "# Convert the tokens into indices using the vocabulary\n",
    "indices = [vocab[token] for token in tokens]\n",
    "print(indices)"
   ]
  },
  {
   "cell_type": "code",
   "execution_count": 13,
   "id": "259ee6de-a654-4fa9-9b32-1c8eabf3c71c",
   "metadata": {},
   "outputs": [
    {
     "name": "stdout",
     "output_type": "stream",
     "text": [
      "torch.Size([6, 50])\n"
     ]
    }
   ],
   "source": [
    "# Convert the indices into a tensor\n",
    "indices_tensor = torch.tensor(indices)\n",
    "\n",
    "# Pass the tensor to the embedding layer and get the output tensor\n",
    "embeddings_tensor = embedding_layer(indices_tensor)\n",
    "print(embeddings_tensor.shape)"
   ]
  },
  {
   "cell_type": "code",
   "execution_count": null,
   "id": "02cd0091-449a-4647-a984-e1ca547019ab",
   "metadata": {},
   "outputs": [],
   "source": []
  }
 ],
 "metadata": {
  "kernelspec": {
   "display_name": "pt-cuda11",
   "language": "python",
   "name": "pt-cuda11"
  },
  "language_info": {
   "codemirror_mode": {
    "name": "ipython",
    "version": 3
   },
   "file_extension": ".py",
   "mimetype": "text/x-python",
   "name": "python",
   "nbconvert_exporter": "python",
   "pygments_lexer": "ipython3",
   "version": "3.8.10"
  }
 },
 "nbformat": 4,
 "nbformat_minor": 5
}
