{
 "metadata": {
  "language_info": {
   "codemirror_mode": {
    "name": "ipython",
    "version": 3
   },
   "file_extension": ".py",
   "mimetype": "text/x-python",
   "name": "python",
   "nbconvert_exporter": "python",
   "pygments_lexer": "ipython3",
   "version": 3
  },
  "orig_nbformat": 2
 },
 "nbformat": 4,
 "nbformat_minor": 2,
 "cells": [
  {
   "cell_type": "markdown",
   "metadata": {},
   "source": [
    "# DBSCAN clustering\n",
    "\n",
    "DBSCAN is a density based spatial clustering that is able to detect irregular shaped clusters with tolerance to noise (outliers).\n",
    "\n",
    "Basic idea is quite intuitive, each data points belong to one of the following:\n",
    "\n",
    "* Core points\n",
    "* Border points\n",
    "* outliers\n",
    "\n",
    "Based on two measures:\n",
    "\n",
    "* **eps**: this is the distance that defines the neighbors; two points are considered neightbors if the distance is less than eps.\n",
    "\n",
    "* **minPts**: minimum number of data points to define a cluster.\n",
    "\n",
    "Going back to three type of points: Core points are those points with **at least minPts** surrounding it within distance of **eps**.\n",
    "Border points are points (1) reachable from core points (2) have **less than minPts** around it. Failing that, you got outlier points.\n",
    "\n",
    "\n",
    "## pros\n",
    "\n",
    "unsupervised, no prior specified number of clusters\n",
    "\n",
    "## cons \n",
    "\n",
    "defining good **eps** and **minPts** can be difficult.\n",
    "\n",
    "\n",
    "\n",
    "\n"
   ]
  }
 ]
}