{
 "cells": [
  {
   "cell_type": "markdown",
   "metadata": {},
   "source": [
    "# Learning notes\n",
    "https://gist.github.com/jakevdp/256c3ad937af9ec7d4c65a29e5b6d454\n",
    "    "
   ]
  },
  {
   "cell_type": "code",
   "execution_count": 11,
   "metadata": {},
   "outputs": [],
   "source": [
    "\n",
    "import numpy as np\n",
    "from sklearn.datasets.samples_generator import make_blobs\n",
    "points, labels_true = make_blobs(n_samples=5000, centers=4,\n",
    "                                 random_state=0, cluster_std=0.60)\n",
    "\n",
    "def dist(x, y):\n",
    "    return sum((xi - yi) ** 2 for xi, yi in zip(x, y))\n",
    "\n",
    "\n",
    "def find_labels(points, centers):\n",
    "    \"\"\"  \n",
    "    For each point, compute its distance to EACH center point.\n",
    "    and pick the center point with minimal distance (its index) as the point's label.\n",
    "    \n",
    "    The return is a list of labels corresponding to each input point\n",
    "    \"\"\"\n",
    "    labels = []\n",
    "    for point in points:\n",
    "        distances = [dist(point, center) for center in centers]\n",
    "        labels.append(distances.index(min(distances)))\n",
    "    return labels\n",
    "\n",
    "\n",
    "def compute_centers(points, labels):\n",
    "    \"\"\"\n",
    "    Given a set of points and labels, compute the mean:\n",
    "    The way this is calculated is:\n",
    "    \n",
    "    first we aggregate (x,y) of all points that belong to a label\n",
    "    then, we find the mean of that label/cluster by calculating the mean\n",
    "    \n",
    "    Return: new center points\n",
    "    \"\"\"\n",
    "        \n",
    "    n_centers = len(set(labels))\n",
    "    n_dims = len(points[0])\n",
    "    \n",
    "    # place holder for list of list of center points\n",
    "    # [ [x1,y1], [x2, y2] ... ]\n",
    "    \n",
    "    centers = [[0 for i in range(n_dims)] for j in range(n_centers)]\n",
    "    \n",
    "    # counter for each center points\n",
    "    \n",
    "    counts = [0 for j in range(n_centers)]\n",
    "    \n",
    "    for label, point in zip(labels, points):\n",
    "        counts[label] += 1\n",
    "        centers[label] = [a + b for a, b in zip(centers[label], point)]\n",
    "        \n",
    "    return [[x / count for x in center] for center, count in zip(centers, counts)]\n",
    "\n",
    "\n",
    "def kmeans(points, n_clusters):\n",
    "    centers = points[-n_clusters:].tolist()\n",
    "    while True:\n",
    "        old_centers = centers\n",
    "        labels = find_labels(points, centers)\n",
    "        centers = compute_centers(points, labels)\n",
    "        if centers == old_centers:\n",
    "            break\n",
    "    return labels\n"
   ]
  },
  {
   "cell_type": "code",
   "execution_count": 10,
   "metadata": {},
   "outputs": [
    {
     "data": {
      "text/plain": [
       "array([0, 1, 2, 3])"
      ]
     },
     "execution_count": 10,
     "metadata": {},
     "output_type": "execute_result"
    }
   ],
   "source": [
    "np.unique(labels_true)"
   ]
  },
  {
   "cell_type": "markdown",
   "metadata": {},
   "source": [
    "# Run it"
   ]
  },
  {
   "cell_type": "code",
   "execution_count": 21,
   "metadata": {},
   "outputs": [],
   "source": [
    "labels = kmeans(points, 10)"
   ]
  },
  {
   "cell_type": "code",
   "execution_count": 23,
   "metadata": {},
   "outputs": [
    {
     "data": {
      "text/plain": [
       "5000"
      ]
     },
     "execution_count": 23,
     "metadata": {},
     "output_type": "execute_result"
    }
   ],
   "source": [
    "len(labels)"
   ]
  },
  {
   "cell_type": "code",
   "execution_count": 25,
   "metadata": {},
   "outputs": [
    {
     "data": {
      "text/plain": [
       "<zip at 0x1a1705cbc8>"
      ]
     },
     "execution_count": 25,
     "metadata": {},
     "output_type": "execute_result"
    }
   ],
   "source": [
    "x = points[-1]\n",
    "y = points[-2]\n",
    "zip(x,y)"
   ]
  },
  {
   "cell_type": "code",
   "execution_count": 28,
   "metadata": {},
   "outputs": [
    {
     "data": {
      "text/plain": [
       "3"
      ]
     },
     "execution_count": 28,
     "metadata": {},
     "output_type": "execute_result"
    }
   ],
   "source": [
    "len(set([1,2,3,2]))"
   ]
  },
  {
   "cell_type": "code",
   "execution_count": 18,
   "metadata": {},
   "outputs": [
    {
     "data": {
      "text/plain": [
       "array([[-2.46162605e-03,  4.12290394e+00],\n",
       "       [-1.24949922e+00,  2.99579490e+00],\n",
       "       [-1.16304687e+00,  7.11496573e+00],\n",
       "       [-2.84376389e+00,  2.46595248e+00],\n",
       "       [-1.47737487e+00,  3.76160270e+00],\n",
       "       [ 1.09416295e+00,  8.74919423e-01],\n",
       "       [-9.17999891e-01,  7.58545949e+00],\n",
       "       [-1.46457066e+00,  7.87822740e+00],\n",
       "       [-1.31351503e+00,  8.10814501e+00],\n",
       "       [-2.28284911e+00,  6.81834065e+00]])"
      ]
     },
     "execution_count": 18,
     "metadata": {},
     "output_type": "execute_result"
    }
   ],
   "source": [
    "points[-10:]"
   ]
  },
  {
   "cell_type": "code",
   "execution_count": 19,
   "metadata": {},
   "outputs": [
    {
     "data": {
      "text/plain": [
       "[[-0.0024616260456247208, 4.122903938531374],\n",
       " [-1.2494992244151415, 2.995794895136798],\n",
       " [-1.1630468701356098, 7.114965730867699],\n",
       " [-2.8437638868074897, 2.465952478731856],\n",
       " [-1.4773748668637057, 3.76160270240154],\n",
       " [1.0941629501881676, 0.8749194232274551],\n",
       " [-0.9179998912300769, 7.585459489593624],\n",
       " [-1.4645706600572181, 7.878227403860206],\n",
       " [-1.3135150298753686, 8.108145010115154],\n",
       " [-2.2828491081262037, 6.8183406522026075]]"
      ]
     },
     "execution_count": 19,
     "metadata": {},
     "output_type": "execute_result"
    }
   ],
   "source": [
    "points[-10:].tolist()"
   ]
  },
  {
   "cell_type": "markdown",
   "metadata": {},
   "source": [
    "# numpy approach"
   ]
  },
  {
   "cell_type": "code",
   "execution_count": null,
   "metadata": {},
   "outputs": [],
   "source": []
  }
 ],
 "metadata": {
  "kernelspec": {
   "display_name": "Python 3",
   "language": "python",
   "name": "python3"
  },
  "language_info": {
   "codemirror_mode": {
    "name": "ipython",
    "version": 3
   },
   "file_extension": ".py",
   "mimetype": "text/x-python",
   "name": "python",
   "nbconvert_exporter": "python",
   "pygments_lexer": "ipython3",
   "version": "3.7.1"
  }
 },
 "nbformat": 4,
 "nbformat_minor": 2
}
