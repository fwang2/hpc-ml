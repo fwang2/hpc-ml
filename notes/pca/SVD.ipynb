{
 "metadata": {
  "language_info": {
   "codemirror_mode": {
    "name": "ipython",
    "version": 3
   },
   "file_extension": ".py",
   "mimetype": "text/x-python",
   "name": "python",
   "nbconvert_exporter": "python",
   "pygments_lexer": "ipython3",
   "version": 3
  },
  "orig_nbformat": 2,
  "kernelspec": {
   "name": "python_defaultSpec_1596492034186",
   "display_name": "Python 3.8.3 64-bit"
  }
 },
 "nbformat": 4,
 "nbformat_minor": 2,
 "cells": [
  {
   "cell_type": "markdown",
   "metadata": {},
   "source": [
    "# Single Value Decomposition (SVD)\n",
    "\n",
    "* SVD is a matrix decomposition that exists in every complex valued matrix \n",
    "* $X = U\\cdot S\\cdot V$ \n",
    "    * $X \\in \\cal{C}^{n\\times m}$\n",
    "    * $U \\in \\cal{C}^{n\\times n}$\n",
    "    * $S \\in \\cal{R}^{n\\times m}$, non-negative in diagonal, zeros off diagonal. \n",
    "    * $V \\in \\cal{C}^{m\\times m}$\n",
    "\n",
    "Here, both $U$ and $V$ are **unitary** matrices.\n",
    "See a short explaination below.\n"
   ]
  },
  {
   "cell_type": "code",
   "execution_count": 1,
   "metadata": {},
   "outputs": [],
   "source": [
    "import numpy as np \n",
    "X = np.random.rand(5, 3)\n",
    "U, S, V = np.linalg.svd(X, full_matrices=True)"
   ]
  },
  {
   "cell_type": "code",
   "execution_count": 7,
   "metadata": {
    "tags": []
   },
   "outputs": [
    {
     "output_type": "stream",
     "name": "stdout",
     "text": "U.shape = (5, 5), S.shape=(3,), V.shape=(3, 3)\nS = [1.84584625 0.47468607 0.31188348]\n"
    }
   ],
   "source": [
    "print(f\"U.shape = {U.shape}, S.shape={S.shape}, V.shape={V.shape}\")\n",
    "print(f\"S = {S}\")\n"
   ]
  },
  {
   "cell_type": "markdown",
   "metadata": {},
   "source": [
    "## Conjugate Transport of Matrix\n",
    "\n",
    "![Conjugate example](../figs/conjugate-transpose.png)\n",
    "\n",
    "## Unitary\n",
    "\n",
    "A square matrix is **unitary** if:\n",
    "\n",
    "$$ U U^{*} = U^{*} U = 1$$\n",
    "\n"
   ]
  },
  {
   "cell_type": "code",
   "execution_count": 10,
   "metadata": {},
   "outputs": [],
   "source": [
    "U_star = np.conj(U)"
   ]
  },
  {
   "cell_type": "code",
   "execution_count": 14,
   "metadata": {},
   "outputs": [
    {
     "output_type": "execute_result",
     "data": {
      "text/plain": "array([[-0.27505096, -0.84939804, -0.14993303, -0.42199371,  0.04807633],\n       [ 0.51743342, -0.23591157,  0.80575366, -0.1552141 , -0.05725396],\n       [ 0.5263388 , -0.08619519, -0.43320876, -0.09767025, -0.71995038],\n       [ 0.58029952, -0.25287312, -0.34088682,  0.32204433,  0.61594746],\n       [-0.20695305, -0.38922265,  0.15622892,  0.82739221, -0.31095149]])"
     },
     "metadata": {},
     "execution_count": 14
    }
   ],
   "source": [
    "np.dot(U, np.conj(U))"
   ]
  },
  {
   "cell_type": "code",
   "execution_count": null,
   "metadata": {},
   "outputs": [],
   "source": []
  }
 ]
}