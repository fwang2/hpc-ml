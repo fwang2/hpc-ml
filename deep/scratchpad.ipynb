{
 "cells": [
  {
   "cell_type": "code",
   "execution_count": 1,
   "metadata": {},
   "outputs": [],
   "source": [
    "# %load ../preface.py\n",
    "%matplotlib inline\n",
    "import numpy as np\n",
    "import pandas as pd\n",
    "import matplotlib as mpl\n",
    "import matplotlib.pyplot as plt\n",
    "from scipy import stats\n",
    "import seaborn as sns; sns.set()\n",
    "\n",
    "# setup matplotlib\n",
    "mpl.rcParams['font.family']='monospace'\n",
    "mpl.rcParams['font.monospace']='Fira Code'\n",
    "mpl.rcParams['font.size']=14.0\n",
    "mpl.rcParams['figure.figsize']=[8,6]\n"
   ]
  },
  {
   "cell_type": "code",
   "execution_count": 41,
   "metadata": {},
   "outputs": [],
   "source": [
    "\n",
    "import matplotlib as mpl\n",
    "import matplotlib.pyplot as plt\n",
    "from mpl_toolkits import mplot3d\n",
    "from mpl_toolkits.mplot3d import Axes3D\n",
    "from matplotlib import cm\n",
    "\n",
    "#fig = plt.figure()\n",
    "#ax = fig.gca(projection='3d')\n",
    "\n",
    "# # Make data.\n",
    "# X = np.arange(-5, 5, 0.25)\n",
    "# Y = np.arange(-5, 5, 0.25)\n",
    "wv0 = np.arange(-5,5,1)\n",
    "wv1 = np.arange(1,6,1)\n",
    "X, Y = np.meshgrid(wv0, wv1)\n",
    "# R = np.sqrt(X**2 + Y**2)\n",
    "# nrows, ncols = X.shape\n",
    "# #Z = np.sin(R)\n",
    "# ax.plot_surface(X,Y,Z, cmap=cm.coolwarm, linewidth=0, antialiased=True)"
   ]
  },
  {
   "cell_type": "code",
   "execution_count": 44,
   "metadata": {},
   "outputs": [
    {
     "data": {
      "text/plain": [
       "array([[ 0.06824331,  0.07183185, -0.03412165],\n",
       "       [ 0.05516321, -0.9591853 , -1.00962364]])"
      ]
     },
     "execution_count": 44,
     "metadata": {},
     "output_type": "execute_result"
    }
   ],
   "source": [
    "np.empty((2,3))\n",
    "        "
   ]
  },
  {
   "cell_type": "code",
   "execution_count": 37,
   "metadata": {},
   "outputs": [
    {
     "data": {
      "text/plain": [
       "array([[1, 1, 1, 1, 1, 1, 1, 1, 1, 1],\n",
       "       [2, 2, 2, 2, 2, 2, 2, 2, 2, 2],\n",
       "       [3, 3, 3, 3, 3, 3, 3, 3, 3, 3],\n",
       "       [4, 4, 4, 4, 4, 4, 4, 4, 4, 4],\n",
       "       [5, 5, 5, 5, 5, 5, 5, 5, 5, 5]])"
      ]
     },
     "execution_count": 37,
     "metadata": {},
     "output_type": "execute_result"
    }
   ],
   "source": [
    "Y"
   ]
  },
  {
   "cell_type": "code",
   "execution_count": 38,
   "metadata": {},
   "outputs": [
    {
     "name": "stdout",
     "output_type": "stream",
     "text": [
      "[-5 -4 -3 -2 -1  0  1  2  3  4]\n",
      "[-5 -4 -3 -2 -1  0  1  2  3  4]\n",
      "[-5 -4 -3 -2 -1  0  1  2  3  4]\n",
      "[-5 -4 -3 -2 -1  0  1  2  3  4]\n",
      "[-5 -4 -3 -2 -1  0  1  2  3  4]\n"
     ]
    }
   ],
   "source": [
    "for i in X:\n",
    "    print(i)"
   ]
  },
  {
   "cell_type": "code",
   "execution_count": 4,
   "metadata": {},
   "outputs": [
    {
     "name": "stdout",
     "output_type": "stream",
     "text": [
      "[24.96601443  3.30576144]\n"
     ]
    }
   ],
   "source": [
    "# Loading data set\n",
    "X, y = np.loadtxt('../datasets/cricket_chirps_versus_temperature.txt', delimiter=',', unpack=True)\n",
    "\n",
    "data = np.genfromtxt('../datasets/cricket_chirps_versus_temperature.txt', delimiter=',')\n",
    "\n",
    "def normalEquation(X, y):\n",
    "    m = int(np.size(data[:, 1]))\n",
    "\n",
    "    # This is the feature / parameter (2x2) vector that will\n",
    "    # contain my minimized values\n",
    "    theta = []\n",
    "\n",
    "    # I create a bias_vector to add to my newly created X vector\n",
    "    bias_vector = np.ones((m, 1))\n",
    "\n",
    "    # I need to reshape my original X(m,) vector so that I can\n",
    "    # manipulate it with my bias_vector; they need to share the same\n",
    "    # dimensions.\n",
    "    X = np.reshape(X, (m, 1))\n",
    "\n",
    "    # I combine these two vectors together to get a (m, 2) matrix\n",
    "    X = np.append(bias_vector, X, axis=1)\n",
    "\n",
    "    # Normal Equation:\n",
    "    # theta = inv(X^T * X) * X^T * y\n",
    "\n",
    "    # For convenience I create a new, tranposed X matrix\n",
    "    X_transpose = np.transpose(X)\n",
    "\n",
    "    # Calculating theta\n",
    "    theta = np.linalg.inv(X_transpose.dot(X))\n",
    "    theta = theta.dot(X_transpose)\n",
    "    theta = theta.dot(y)\n",
    "\n",
    "    return theta\n",
    "\n",
    "p = normalEquation(y, X)\n",
    "\n",
    "print(p)"
   ]
  },
  {
   "cell_type": "code",
   "execution_count": 7,
   "metadata": {},
   "outputs": [
    {
     "data": {
      "text/plain": [
       "array([88.6, 20. ])"
      ]
     },
     "execution_count": 7,
     "metadata": {},
     "output_type": "execute_result"
    }
   ],
   "source": [
    "data[0]"
   ]
  },
  {
   "cell_type": "code",
   "execution_count": 8,
   "metadata": {},
   "outputs": [
    {
     "data": {
      "text/plain": [
       "88.6"
      ]
     },
     "execution_count": 8,
     "metadata": {},
     "output_type": "execute_result"
    }
   ],
   "source": [
    "X[0]"
   ]
  },
  {
   "cell_type": "code",
   "execution_count": null,
   "metadata": {},
   "outputs": [],
   "source": []
  }
 ],
 "metadata": {
  "kernelspec": {
   "display_name": "Python 3",
   "language": "python",
   "name": "python3"
  },
  "language_info": {
   "codemirror_mode": {
    "name": "ipython",
    "version": 3
   },
   "file_extension": ".py",
   "mimetype": "text/x-python",
   "name": "python",
   "nbconvert_exporter": "python",
   "pygments_lexer": "ipython3",
   "version": "3.7.2"
  }
 },
 "nbformat": 4,
 "nbformat_minor": 2
}
