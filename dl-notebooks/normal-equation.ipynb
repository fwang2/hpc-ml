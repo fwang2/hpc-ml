{
 "cells": [
  {
   "cell_type": "code",
   "execution_count": 2,
   "metadata": {},
   "outputs": [],
   "source": [
    "# %load ../src/preface.py\n",
    "%matplotlib inline\n",
    "import numpy as np\n",
    "import pandas as pd\n",
    "import matplotlib as mpl\n",
    "import matplotlib.pyplot as plt\n",
    "from mpl_toolkits.mplot3d import Axes3D\n",
    "from matplotlib import cm\n",
    "\n",
    "from scipy import stats\n",
    "import seaborn as sns; sns.set()\n",
    "from IPython.core.debugger import set_trace\n",
    "\n",
    "# setup matplotlib\n",
    "mpl.rcParams['font.family']='monospace'\n",
    "mpl.rcParams['font.monospace']='Fira Code'\n",
    "mpl.rcParams['font.size']=14.0\n",
    "mpl.rcParams['figure.figsize']=[8,6]\n",
    "\n"
   ]
  },
  {
   "cell_type": "markdown",
   "metadata": {},
   "source": [
    "# Normal Equation\n",
    "$$ w =  (X^T \\cdot X)^{-1} \\cdot X^T \\cdot y$$\n",
    "\n",
    "\n",
    "* X -> (47,3)\n",
    "* X.T -> (3,47)\n",
    "* X.T dot X -> (3,3)\n",
    "* inv() -> (3,3)\n",
    "* inv() dot X.T -> (3,47) \n",
    "* (3,47) dot (47, 1) -> (3,1)\n",
    "\n",
    "```\n",
    "# \n",
    "# Verification:\n",
    "# \n",
    "# X = np.array([1,2,3,4,5]).reshape(5,1)\n",
    "# X = np.hstack((np.ones((5,1)),X))\n",
    "# y = np.array([7,9,12,15,16]).reshape(5,1)\n",
    "# w = normal_equation(X,y)\n",
    "\n",
    "# w = array([[4.6],\n",
    "#        [2.4]])\n",
    "```\n",
    "\n",
    "## read in data"
   ]
  },
  {
   "cell_type": "code",
   "execution_count": 46,
   "metadata": {},
   "outputs": [],
   "source": [
    "# housing price @ New Orleans\n",
    "# col #1: size\n",
    "# col #2: number of bedrooms\n",
    "# col #3: price\n",
    "\n",
    "data = np.loadtxt(\"../datasets/ex1data2.txt\", delimiter=',')\n",
    "n, m = data.shape\n",
    "X = data[:,:-1] # all columns except last \n",
    "y = data[:,-1] # last columns"
   ]
  },
  {
   "cell_type": "markdown",
   "metadata": {},
   "source": [
    "## add extra 1 column"
   ]
  },
  {
   "cell_type": "code",
   "execution_count": 47,
   "metadata": {},
   "outputs": [],
   "source": [
    "# add 1's as a first column in X\n",
    "y = y.reshape(n,1)\n",
    "X = np.hstack((np.ones((n,1)), X.reshape(n,m-1)))"
   ]
  },
  {
   "cell_type": "markdown",
   "metadata": {},
   "source": [
    "## Compute cost function and normal equation"
   ]
  },
  {
   "cell_type": "code",
   "execution_count": 48,
   "metadata": {},
   "outputs": [],
   "source": [
    "# non-vector\n",
    "def compute_cost(X, y, w):\n",
    "    n = len(X)\n",
    "    return 1./(2*n) *  np.sum(( X.dot(w) - y[:,None])**2)\n",
    "\n",
    "def normal_equation(X, y):\n",
    "    from numpy.linalg import inv\n",
    "    return inv(X.T.dot(X)).dot(X.T).dot(y)"
   ]
  },
  {
   "cell_type": "code",
   "execution_count": 49,
   "metadata": {},
   "outputs": [
    {
     "data": {
      "text/plain": [
       "array([[89597.9095428 ],\n",
       "       [  139.21067402],\n",
       "       [-8738.01911233]])"
      ]
     },
     "execution_count": 49,
     "metadata": {},
     "output_type": "execute_result"
    }
   ],
   "source": [
    "w = normal_equation(X, y)\n",
    "w"
   ]
  },
  {
   "cell_type": "code",
   "execution_count": 50,
   "metadata": {},
   "outputs": [],
   "source": [
    "cost = compute_cost(X,y,w)"
   ]
  },
  {
   "cell_type": "code",
   "execution_count": 51,
   "metadata": {},
   "outputs": [
    {
     "name": "stdout",
     "output_type": "stream",
     "text": [
      "623,174,756,096.22\n"
     ]
    }
   ],
   "source": [
    "print(\"{:,.2f}\".format(cost))"
   ]
  },
  {
   "cell_type": "code",
   "execution_count": 42,
   "metadata": {},
   "outputs": [
    {
     "data": {
      "text/plain": [
       "array([[4.6],\n",
       "       [2.4]])"
      ]
     },
     "execution_count": 42,
     "metadata": {},
     "output_type": "execute_result"
    }
   ],
   "source": []
  },
  {
   "cell_type": "code",
   "execution_count": 43,
   "metadata": {},
   "outputs": [
    {
     "data": {
      "text/plain": [
       "5"
      ]
     },
     "execution_count": 43,
     "metadata": {},
     "output_type": "execute_result"
    }
   ],
   "source": [
    "len(X)"
   ]
  },
  {
   "cell_type": "code",
   "execution_count": null,
   "metadata": {},
   "outputs": [],
   "source": []
  }
 ],
 "metadata": {
  "kernelspec": {
   "display_name": "Python 3",
   "language": "python",
   "name": "python3"
  },
  "language_info": {
   "codemirror_mode": {
    "name": "ipython",
    "version": 3
   },
   "file_extension": ".py",
   "mimetype": "text/x-python",
   "name": "python",
   "nbconvert_exporter": "python",
   "pygments_lexer": "ipython3",
   "version": "3.7.2"
  }
 },
 "nbformat": 4,
 "nbformat_minor": 2
}
