{
 "cells": [
  {
   "cell_type": "markdown",
   "id": "e06212d9-46b6-4089-b751-9d8068e8cc45",
   "metadata": {},
   "source": [
    "## Estimating how many operations we need for a 10x GPT-3 model?"
   ]
  },
  {
   "cell_type": "code",
   "execution_count": 2,
   "id": "8c6755d6-f935-42cb-a247-a88a2b6deef4",
   "metadata": {},
   "outputs": [
    {
     "data": {
      "text/plain": [
       "23.4375"
      ]
     },
     "execution_count": 2,
     "metadata": {},
     "output_type": "execute_result"
    }
   ],
   "source": [
    "# average size of wiki article 3000 characters\n",
    "wiki_size=(3000*8)/1024\n",
    "wiki_size"
   ]
  },
  {
   "cell_type": "code",
   "execution_count": 4,
   "id": "5edd54c0-f3a0-46ec-b400-fa2b2fb243be",
   "metadata": {},
   "outputs": [
    {
     "data": {
      "text/plain": [
       "500000000000.0"
      ]
     },
     "execution_count": 4,
     "metadata": {},
     "output_type": "execute_result"
    }
   ],
   "source": [
    "# 500 TB, 1TB = 1e12\n",
    "# in KB\n",
    "tot_data=500e9\n",
    "tot_data"
   ]
  },
  {
   "cell_type": "code",
   "execution_count": 5,
   "id": "d0f208ee-7d06-45ad-9989-71056a8ca545",
   "metadata": {},
   "outputs": [
    {
     "data": {
      "text/plain": [
       "20000000000.0"
      ]
     },
     "execution_count": 5,
     "metadata": {},
     "output_type": "execute_result"
    }
   ],
   "source": [
    "tot_data/25"
   ]
  },
  {
   "cell_type": "code",
   "execution_count": 6,
   "id": "91354bed-3fcc-45a8-8a6e-b02b2883058c",
   "metadata": {},
   "outputs": [
    {
     "data": {
      "text/plain": [
       "20000000000.0"
      ]
     },
     "execution_count": 6,
     "metadata": {},
     "output_type": "execute_result"
    }
   ],
   "source": [
    "5e11/25"
   ]
  },
  {
   "cell_type": "code",
   "execution_count": 23,
   "id": "0aa4934a-d2e0-48f4-b4c3-a347126dd0df",
   "metadata": {},
   "outputs": [
    {
     "name": "stdout",
     "output_type": "stream",
     "text": [
      "2.000000e+10\n"
     ]
    }
   ],
   "source": [
    "\n",
    "print(\"{:e}\".format(5e11/25))"
   ]
  },
  {
   "cell_type": "markdown",
   "id": "a3d82720-49c2-4dc9-a923-a991b431e521",
   "metadata": {},
   "source": [
    "**we get to 20 billion operations needed**"
   ]
  },
  {
   "cell_type": "markdown",
   "id": "1d0d6425-47d9-4263-b599-6b159952627e",
   "metadata": {
    "tags": []
   },
   "source": [
    "## Estimating Frontier matrix size and its I/O"
   ]
  },
  {
   "cell_type": "code",
   "execution_count": 14,
   "id": "5c592c65-e0a4-41dd-8a88-7c650a73ca78",
   "metadata": {},
   "outputs": [
    {
     "data": {
      "text/plain": [
       "7200.0"
      ]
     },
     "execution_count": 14,
     "metadata": {},
     "output_type": "execute_result"
    }
   ],
   "source": [
    "(30e6*30e6*8)/1e12"
   ]
  },
  {
   "cell_type": "markdown",
   "id": "dcca28db-13f9-442a-bb8b-600a14b306a8",
   "metadata": {},
   "source": [
    "it is use 30 million by 30 million, double precision, 7.2PB output to disk."
   ]
  },
  {
   "cell_type": "markdown",
   "id": "1de4b307-4a04-4e1e-98b1-f1b0655bac5c",
   "metadata": {},
   "source": [
    "## Estimating NERSC 30PB all flash POSIX interface IOPS"
   ]
  },
  {
   "cell_type": "code",
   "execution_count": 19,
   "id": "08e1c1ea-b85e-4564-a1a0-424a4618d447",
   "metadata": {},
   "outputs": [],
   "source": [
    "per_client=0.73*1e9/(4*1000)"
   ]
  },
  {
   "cell_type": "code",
   "execution_count": 20,
   "id": "ad62d8d9-a802-46fa-9488-75f4d54eac0e",
   "metadata": {},
   "outputs": [
    {
     "data": {
      "text/plain": [
       "41400000"
      ]
     },
     "execution_count": 20,
     "metadata": {},
     "output_type": "execute_result"
    }
   ],
   "source": [
    "230*180000"
   ]
  },
  {
   "cell_type": "markdown",
   "id": "a6e7763b-d3c8-4348-a3c5-83116f30e4a9",
   "metadata": {},
   "source": [
    "36 millions IOPS with 230 clients,\n",
    "we estimate each client contributing to 155K IOPS\n",
    "\n",
    "As we scale up, we expect more loss, 100K? that will be an order magnitude slower than single device IOPS"
   ]
  },
  {
   "cell_type": "markdown",
   "id": "f172132c-d646-4cab-a9a5-212e4f5a66dc",
   "metadata": {},
   "source": [
    "Now, we estimate with 2K clients, for 500TB data set: we are looking it 63 seconds.\n",
    "it will probably get much worse than that."
   ]
  },
  {
   "cell_type": "code",
   "execution_count": 21,
   "id": "3c3d919f-ef3b-4e12-9991-5ff07809ef85",
   "metadata": {},
   "outputs": [
    {
     "data": {
      "text/plain": [
       "63.00403225806452"
      ]
     },
     "execution_count": 21,
     "metadata": {},
     "output_type": "execute_result"
    }
   ],
   "source": [
    "# 36 million IOPS, 230 clients\n",
    "# 155 K 4K IOPS\n",
    "2e10/(155e3*2048)"
   ]
  },
  {
   "cell_type": "code",
   "execution_count": null,
   "id": "b10dafec-d20b-4971-bd0c-74e3a1e0196a",
   "metadata": {},
   "outputs": [],
   "source": []
  }
 ],
 "metadata": {
  "kernelspec": {
   "display_name": "Python 3 (ipykernel)",
   "language": "python",
   "name": "python3"
  },
  "language_info": {
   "codemirror_mode": {
    "name": "ipython",
    "version": 3
   },
   "file_extension": ".py",
   "mimetype": "text/x-python",
   "name": "python",
   "nbconvert_exporter": "python",
   "pygments_lexer": "ipython3",
   "version": "3.9.13"
  }
 },
 "nbformat": 4,
 "nbformat_minor": 5
}
