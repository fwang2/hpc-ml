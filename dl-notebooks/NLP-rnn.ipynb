{
 "cells": [
  {
   "cell_type": "code",
   "execution_count": null,
   "metadata": {},
   "outputs": [],
   "source": []
  }
 ],
 "metadata": {
  "kernelspec": {
   "display_name": "Python 3.8.13 ('torch-gpu')",
   "language": "python",
   "name": "python3"
  },
  "language_info": {
   "name": "python",
   "version": "3.8.13"
  },
  "orig_nbformat": 4,
  "vscode": {
   "interpreter": {
    "hash": "dfe6e941a7766b4f667e721109bb1bb456cb30f9a228822b81d8f31d2ac25a3d"
   }
  }
 },
 "nbformat": 4,
 "nbformat_minor": 2
}
