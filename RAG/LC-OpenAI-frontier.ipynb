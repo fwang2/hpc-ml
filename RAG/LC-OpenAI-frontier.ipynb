{
 "cells": [
  {
   "cell_type": "code",
   "execution_count": 1,
   "id": "402974cb-7934-4c81-a44a-e603ca7c4852",
   "metadata": {
    "tags": []
   },
   "outputs": [],
   "source": [
    "from langchain.vectorstores import Chroma\n",
    "from langchain.embeddings import OpenAIEmbeddings\n",
    "from langchain.text_splitter import RecursiveCharacterTextSplitter\n",
    "from langchain.llms import OpenAI\n",
    "from langchain.document_loaders import TextLoader\n",
    "\n",
    "import pprint\n",
    "pp = pprint.PrettyPrinter(indent=2)\n",
    "\n",
    "loader = TextLoader('frontier.txt')\n",
    "documents = loader.load()\n",
    "text_splitter = RecursiveCharacterTextSplitter(chunk_size=200, chunk_overlap=20)\n",
    "texts = text_splitter.split_documents(documents)"
   ]
  },
  {
   "cell_type": "markdown",
   "id": "a242a00f-eb6b-4020-828f-7adb7b398a53",
   "metadata": {},
   "source": [
    "## Using OpenAI embeddings"
   ]
  },
  {
   "cell_type": "code",
   "execution_count": 2,
   "id": "c831a70e-1e00-4a87-866f-5df922b19760",
   "metadata": {
    "tags": []
   },
   "outputs": [],
   "source": [
    "embeddings = OpenAIEmbeddings()\n",
    "vectordb = Chroma.from_documents(texts, embeddings)"
   ]
  },
  {
   "cell_type": "code",
   "execution_count": 3,
   "id": "9a96e3cc-288b-4bd2-9d28-c2bef91db173",
   "metadata": {
    "tags": []
   },
   "outputs": [
    {
     "name": "stdout",
     "output_type": "stream",
     "text": [
      "[ Document(page_content='Each Frontier compute node consists of [1x] 64-core AMD “Optimized 3rd Gen EPYC” CPU (with 2 hardware threads per physical core) with access to 512 GB of DDR4 memory. Each node also contains [4x] AMD', metadata={'source': 'frontier.txt'})]\n"
     ]
    }
   ],
   "source": [
    "question = \"what is the cpu type on frontier\"\n",
    "docs = vectordb.similarity_search(question,k=1)\n",
    "pp.pprint(docs)"
   ]
  },
  {
   "cell_type": "code",
   "execution_count": 11,
   "id": "f8d5f93a-e7fd-4c06-aa74-d8f23cca3623",
   "metadata": {
    "tags": []
   },
   "outputs": [
    {
     "name": "stdout",
     "output_type": "stream",
     "text": [
      "[ Document(page_content='scheduling policy of frontier is that in a simple batch queue system, jobs run in a first-in, first-out (FIFO) order.', metadata={'source': 'frontier.txt'}),\n",
      "  Document(page_content='Frontier is a HPE Cray EX supercomputer located at the Oak Ridge Leadership Computing Facility.', metadata={'source': 'frontier.txt'}),\n",
      "  Document(page_content='Each Frontier compute node consists of [1x] 64-core AMD “Optimized 3rd Gen EPYC” CPU (with 2 hardware threads per physical core) with access to 512 GB of DDR4 memory. Each node also contains [4x] AMD', metadata={'source': 'frontier.txt'}),\n",
      "  Document(page_content='contains [4x] AMD MI250X, each with 2 Graphics Compute Dies (GCDs) for a total of 8 GCDs per node.', metadata={'source': 'frontier.txt'}),\n",
      "  Document(page_content='system interconnect of frontier is that the Frontier nodes are connected with [4x] HPE Slingshot 200 Gbps (25 GB/s) NICs providing a node-injection bandwidth of 800 Gbps (100 GB/s).', metadata={'source': 'frontier.txt'}),\n",
      "  Document(page_content='File systems of frontier is that Frontier is connected to Orion, a parallel filesystem based on Lustre and HPE ClusterStor, with a 679 PB usable namespace (/lustre/orion/).', metadata={'source': 'frontier.txt'})]\n"
     ]
    }
   ],
   "source": [
    "pp.pprint(texts)"
   ]
  }
 ],
 "metadata": {
  "kernelspec": {
   "display_name": "Python 3 (ipykernel)",
   "language": "python",
   "name": "python3"
  },
  "language_info": {
   "codemirror_mode": {
    "name": "ipython",
    "version": 3
   },
   "file_extension": ".py",
   "mimetype": "text/x-python",
   "name": "python",
   "nbconvert_exporter": "python",
   "pygments_lexer": "ipython3",
   "version": "3.11.5"
  }
 },
 "nbformat": 4,
 "nbformat_minor": 5
}
