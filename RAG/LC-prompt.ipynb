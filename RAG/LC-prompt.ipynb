{
 "cells": [
  {
   "cell_type": "code",
   "execution_count": null,
   "id": "4e2b4516-4f48-4ce0-be96-fa62ee7f805d",
   "metadata": {
    "tags": []
   },
   "outputs": [],
   "source": [
    "## provide openapi key\n",
    "## ussing %env OPENAI_API_KEY=blablah format\n",
    "\n",
    "## this can be fixed at the startup\n",
    "## import os\n",
    "## del os.environ['all_proxy']\n",
    "\n",
    "## all_proxy is causing an error for \"holly\"\n"
   ]
  },
  {
   "cell_type": "code",
   "execution_count": 7,
   "id": "26bab37b-3b63-4016-98bc-7aceecd6e5e2",
   "metadata": {
    "tags": []
   },
   "outputs": [
    {
     "data": {
      "text/plain": [
       "'Why did the ice cream go to therapy? \\n\\nBecause it had too many sprinkles of anxiety!'"
      ]
     },
     "execution_count": 7,
     "metadata": {},
     "output_type": "execute_result"
    }
   ],
   "source": [
    "from langchain.chat_models import ChatOpenAI\n",
    "from langchain.prompts import ChatPromptTemplate\n",
    "from langchain.schema.output_parser import StrOutputParser\n",
    "\n",
    "prompt = ChatPromptTemplate.from_template(\"tell me a short joke about {topic}\")\n",
    "model = ChatOpenAI()\n",
    "output_parser = StrOutputParser()\n",
    "\n",
    "\n",
    "## create the chain\n",
    "chain = prompt | model | output_parser\n",
    "\n",
    "chain.invoke({\"topic\": \"ice cream\"})\n"
   ]
  }
 ],
 "metadata": {
  "kernelspec": {
   "display_name": "Python 3 (ipykernel)",
   "language": "python",
   "name": "python3"
  },
  "language_info": {
   "codemirror_mode": {
    "name": "ipython",
    "version": 3
   },
   "file_extension": ".py",
   "mimetype": "text/x-python",
   "name": "python",
   "nbconvert_exporter": "python",
   "pygments_lexer": "ipython3",
   "version": "3.11.5"
  }
 },
 "nbformat": 4,
 "nbformat_minor": 5
}
